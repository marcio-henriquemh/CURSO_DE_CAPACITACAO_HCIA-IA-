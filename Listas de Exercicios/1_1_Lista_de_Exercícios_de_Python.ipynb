{
  "nbformat": 4,
  "nbformat_minor": 0,
  "metadata": {
    "colab": {
      "provenance": []
    },
    "kernelspec": {
      "name": "python3",
      "display_name": "Python 3"
    },
    "language_info": {
      "name": "python"
    }
  },
  "cells": [
    {
      "cell_type": "markdown",
      "source": [
        "#Aluno:Márcio Henrique Matos de Freitas"
      ],
      "metadata": {
        "id": "bWEeDJd8WqcW"
      }
    },
    {
      "cell_type": "markdown",
      "metadata": {
        "id": "MmqHxquUPFFa"
      },
      "source": [
        "# **Exercícios de Python**"
      ]
    },
    {
      "cell_type": "markdown",
      "metadata": {
        "id": "J0AlTVgePQEO"
      },
      "source": [
        "Esta é uma lista de exercícios sobre Listas e Dicionários em Python, a qual  visa ajudar-los a aprender e praticar operações de lista e dicionários para melhorar seu conhecimento Python. Todas as perguntas são testadas em Python 3. \n",
        "\n",
        "Os seguintes tópicos sobre listas são apresentados:\n",
        "\n",
        "* Operações e manipulações da lista Python\n",
        "* Funções de lista Python\n",
        "* Slicing da lista Python\n",
        "* Compreensão da lista Python\n",
        "* Operações e manipulações de dicionário Python\n",
        "* Funções de dicionário Python\n",
        "* Compreensão do dicionário Python \n",
        "\n",
        "Caso tenha algum dúvida, entrar em contato: souza.m.allan@gmail.com"
      ]
    },
    {
      "cell_type": "markdown",
      "metadata": {
        "id": "D-c4wcwVPxaY"
      },
      "source": [
        "# **Listas**"
      ]
    },
    {
      "cell_type": "markdown",
      "metadata": {
        "id": "ap75fua9P-K0"
      },
      "source": [
        "## **Inverta a sequência de um lista**\n"
      ]
    },
    {
      "cell_type": "code",
      "metadata": {
        "id": "pF3QHCuaO-nQ",
        "colab": {
          "base_uri": "https://localhost:8080/"
        },
        "outputId": "ff577ac4-2cd3-4e60-ca5d-3f3f00dc4e74"
      },
      "source": [
        "#Aluno:Marcio Henrique Matos de Freitas\n",
        "lista_00 = [100, 200, 300, 400, 500]\n",
        "\n",
        "lista_00.reverse()\n",
        "print(lista_00)\n",
        "#########################################\n",
        "#         Escreva o código aqui\n",
        "#########################################"
      ],
      "execution_count": 6,
      "outputs": [
        {
          "output_type": "stream",
          "name": "stdout",
          "text": [
            "[500, 400, 300, 200, 100]\n"
          ]
        }
      ]
    },
    {
      "cell_type": "markdown",
      "metadata": {
        "id": "HRhB9d_0QCls"
      },
      "source": [
        "##### Resultado esperado:\n",
        "<pre>\n",
        "[500, 400, 300, 200, 100]\n",
        "</pre>"
      ]
    },
    {
      "cell_type": "markdown",
      "metadata": {
        "id": "IORy8pI-QFPa"
      },
      "source": [
        "\n",
        "## **Concatene duas listas pelos índices**\n"
      ]
    },
    {
      "cell_type": "code",
      "metadata": {
        "id": "ScmL2qEPQD0F",
        "colab": {
          "base_uri": "https://localhost:8080/"
        },
        "outputId": "528afcf7-cc37-4a60-fc27-ea32857ba34f"
      },
      "source": [
        "#Aluno:Marcio Henrique Matos de Freitas\n",
        "lista_01 = ['E', 'm', 'cha', 'Jo']\n",
        "lista_02 = ['u', 'e', 'mo', 'ão']\n",
        "\n",
        "\n",
        "#########################################\n",
        "#         Escreva o código aqui\n",
        "#########################################\n",
        "#definndo os indices\n",
        "indi_1=0\n",
        "indi_2=0\n",
        "\n",
        "#riando uma lista\n",
        "\n",
        "concate=[]\n",
        "\n",
        "for i in range(len(lista_01)):\n",
        "  #variaveis locais\n",
        "    stri_1=lista_01[i]\n",
        "    stri_2=lista_02[i]\n",
        "    concate.append(stri_1[indi_1:]+ stri_2[indi_2:])\n",
        "\n",
        "print(concate)\n"
      ],
      "execution_count": 16,
      "outputs": [
        {
          "output_type": "stream",
          "name": "stdout",
          "text": [
            "['Eu', 'me', 'chamo', 'João']\n"
          ]
        }
      ]
    },
    {
      "cell_type": "markdown",
      "source": [],
      "metadata": {
        "id": "hpw5vBU-Wmxm"
      }
    },
    {
      "cell_type": "markdown",
      "metadata": {
        "id": "uIzANZUxQNsk"
      },
      "source": [
        "##### Resultado esperado:\n",
        "<pre>\n",
        "['Eu', 'me', 'chamo', 'João']\n",
        "</pre>"
      ]
    },
    {
      "cell_type": "markdown",
      "metadata": {
        "id": "98pNbSRyQQcV"
      },
      "source": [
        "## **Dada uma lista de números. Transforme cada item da lista em seu quadrado**\n"
      ]
    },
    {
      "cell_type": "code",
      "metadata": {
        "id": "es7LCexUQOJE",
        "colab": {
          "base_uri": "https://localhost:8080/"
        },
        "outputId": "e8bdcfb2-c457-4049-c215-10fd0baee756"
      },
      "source": [
        "#Márcio Henrique Matos de Freitas\n",
        "lista_03 = [1, 2, 3, 4, 5, 6, 7, 8, 9, 10]\n",
        "\n",
        "lista_quadrado=[numero ** 2 for numero in lista_03]\n",
        "print(lista_quadrado)\n",
        "\n",
        "#########################################\n",
        "#         Escreva o código aqui\n",
        "#########################################"
      ],
      "execution_count": 22,
      "outputs": [
        {
          "output_type": "stream",
          "name": "stdout",
          "text": [
            "[1, 4, 9, 16, 25, 36, 49, 64, 81, 100]\n"
          ]
        }
      ]
    },
    {
      "cell_type": "markdown",
      "metadata": {
        "id": "_2vTPWBlQU2T"
      },
      "source": [
        "##### Resultado esperado:\n",
        "<pre>\n",
        "[1, 4, 9, 16, 25, 36, 49, 64, 81, 100]\n",
        "</pre>"
      ]
    },
    {
      "cell_type": "markdown",
      "metadata": {
        "id": "x3AJl9uMQWwN"
      },
      "source": [
        "## **Dada duas listas. Iteresobre elas simultaneamente, de modo que a lista_04 exiba os itens na ordem original e a lista_05 na ordem inversa**"
      ]
    },
    {
      "cell_type": "code",
      "metadata": {
        "id": "ZEm-FYcvQVD7",
        "colab": {
          "base_uri": "https://localhost:8080/"
        },
        "outputId": "d2c3daf5-ff36-415b-ecc1-e7cbdbf42ca9"
      },
      "source": [
        "lista_04 = [10, 20, 30, 40, 50]\n",
        "lista_05 = [100, 200, 300, 400, 500]\n",
        "\n",
        "\n",
        "#########################################\n",
        "#         Escreva o código aqui\n",
        "#########################################\n",
        "#Márcio Henrique Matos de Freitas\n",
        "\n",
        "listas_juntas=[(10, 500), (20, 400), (30, 300), (40, 200), (50, 100)]\n",
        "\n",
        "ordenar=sorted(listas_juntas, key=lambda x: x[1], reverse=True)\n",
        "\n",
        "for x in listas_juntas:\n",
        "    print(\"{} {}\".format(x[0], x[1]))"
      ],
      "execution_count": 37,
      "outputs": [
        {
          "output_type": "stream",
          "name": "stdout",
          "text": [
            "10 500\n",
            "20 400\n",
            "30 300\n",
            "40 200\n",
            "50 100\n"
          ]
        }
      ]
    },
    {
      "cell_type": "markdown",
      "metadata": {
        "id": "2GAOsR4QQaqa"
      },
      "source": [
        "##### Resultado esperado:\n",
        "<pre>\n",
        "10 500\n",
        "20 400\n",
        "30 300\n",
        "40 200\n",
        "50 100\n",
        "</pre>"
      ]
    },
    {
      "cell_type": "markdown",
      "metadata": {
        "id": "MPqnRyg0Qe1z"
      },
      "source": [
        "## **Remova a string vazia da listas de strings**"
      ]
    },
    {
      "cell_type": "code",
      "metadata": {
        "id": "zvuZCJ-wQa_Q",
        "colab": {
          "base_uri": "https://localhost:8080/"
        },
        "outputId": "ab64d371-6f35-4eeb-818b-37f819995152"
      },
      "source": [
        "lista_06 = ['José', 'Maria', 'Paulo', '', 'Pedro', '', 'Ana']\n",
        "\n",
        "#########################################\n",
        "#         Escreva o código aqui\n",
        "#########################################\n",
        "\n",
        "#Aluno:Marcio Henrique Matos de Freitas\n",
        "\n",
        "sem_aspas=list(filter(lambda x: x !='',lista_06))\n",
        "print(sem_aspas)"
      ],
      "execution_count": 42,
      "outputs": [
        {
          "output_type": "stream",
          "name": "stdout",
          "text": [
            "['José', 'Maria', 'Paulo', 'Pedro', 'Ana']\n"
          ]
        }
      ]
    },
    {
      "cell_type": "markdown",
      "metadata": {
        "id": "tUoFX2gDQix6"
      },
      "source": [
        "##### Resultado esperado:\n",
        "<pre>\n",
        "['José', 'Maria', 'Paulo', 'Pedro', 'Ana']\n",
        "</pre>"
      ]
    },
    {
      "cell_type": "markdown",
      "metadata": {
        "id": "Sg9jYlQrQlZd"
      },
      "source": [
        "## **Adicione o número 7000 após o número 6000 na seguinte lista** "
      ]
    },
    {
      "cell_type": "code",
      "metadata": {
        "id": "gBFo9rDLQi_-",
        "colab": {
          "base_uri": "https://localhost:8080/"
        },
        "outputId": "8cda2ded-7e72-49f9-c141-8e8c5677a092"
      },
      "source": [
        "list_07 = [10, 20, [300, 400, [5000, 6000], 500], 30, 40]\n",
        "\n",
        "#########################################\n",
        "#         Escreva o código aqui\n",
        "#########################################\n",
        "#Márcio Henrique Matos de freitas\n",
        "\n",
        "list_07[2][2].insert(2,7000)\n",
        "print(list_07)"
      ],
      "execution_count": 50,
      "outputs": [
        {
          "output_type": "stream",
          "name": "stdout",
          "text": [
            "[10, 20, [300, 400, [5000, 6000, 7000], 500], 30, 40]\n"
          ]
        }
      ]
    },
    {
      "cell_type": "code",
      "source": [
        "list_07[2][2].insert(2, 7000)\n",
        "list_07"
      ],
      "metadata": {
        "colab": {
          "base_uri": "https://localhost:8080/"
        },
        "id": "hI9c4dwk-NUX",
        "outputId": "55f2a94c-a1ed-4e88-c52f-21437cf6bf9a"
      },
      "execution_count": null,
      "outputs": [
        {
          "output_type": "execute_result",
          "data": {
            "text/plain": [
              "[10, 20, [300, 400, [5000, 6000, 7000], 500], 30, 40]"
            ]
          },
          "metadata": {},
          "execution_count": 18
        }
      ]
    },
    {
      "cell_type": "markdown",
      "metadata": {
        "id": "yjiVgiXTQpzp"
      },
      "source": [
        "##### Resultado esperado:\n",
        "<pre>\n",
        "[10, 20, [300, 400, [5000, 6000, 7000], 500], 30, 40]\n",
        "</pre>"
      ]
    },
    {
      "cell_type": "markdown",
      "metadata": {
        "id": "tdyd9izBQrl8"
      },
      "source": [
        "## **Dada uma lista aninhada, adicione a sub-lista [\"h\", \"i\", \"j\"] na posição correta**"
      ]
    },
    {
      "cell_type": "code",
      "metadata": {
        "id": "zUSxD4ERQqBE",
        "colab": {
          "base_uri": "https://localhost:8080/"
        },
        "outputId": "420f5fc6-aa96-40a4-ffd8-0df5ce6cb59e"
      },
      "source": [
        "lista_08  = ['a', 'b', ['c', ['d', 'e', ['f', 'g'], 'k'], 'l'], 'm', 'n']\n",
        "sub_lista = ['h', 'i', 'j']\n",
        "\n",
        "#########################################\n",
        "#         Escreva o código aqui\n",
        "#########################################\n",
        "\n",
        "#Aluno:Márcio Henrique Matos de Freitas\n",
        "\n",
        "#criando uma sublista final\n",
        "\n",
        "sublista_final=lista_08[2][1][2]\n",
        "\n",
        "#adcionando hji\n",
        "sublista_final.extend(sub_lista)\n",
        "\n",
        "print(lista_08)"
      ],
      "execution_count": 55,
      "outputs": [
        {
          "output_type": "stream",
          "name": "stdout",
          "text": [
            "['a', 'b', ['c', ['d', 'e', ['f', 'g', 'h', 'i', 'j'], 'k'], 'l'], 'm', 'n']\n"
          ]
        }
      ]
    },
    {
      "cell_type": "markdown",
      "metadata": {
        "id": "VemENfICQvxa"
      },
      "source": [
        "##### Resultado esperado:\n",
        "<pre>\n",
        "['a', 'b', ['c', ['d', 'e', ['f', 'g', 'h', 'i', 'j'], 'k'], 'l'], 'm', 'n']\n",
        "</pre>"
      ]
    },
    {
      "cell_type": "markdown",
      "metadata": {
        "id": "OtByrNJHQyH-"
      },
      "source": [
        "## **Dada uma lista, encontre o valor 20 e, se estiver presente, substitua-o por 200. Atualize apenas a primeira ocorrência do valor**"
      ]
    },
    {
      "cell_type": "code",
      "metadata": {
        "id": "okBnK54fQv-W",
        "colab": {
          "base_uri": "https://localhost:8080/"
        },
        "outputId": "4de48ed0-29d2-4a73-dcee-1fcb138e2218"
      },
      "source": [
        "lista_09 = [5, 10, 15, 20, 25, 50, 20]\n",
        "\n",
        "#########################################\n",
        "#         Escreva o código aqui\n",
        "#########################################\n",
        "\n",
        "#Aluno:Marcio Henrique Matos de Freitas\n",
        "\n",
        "inserir_20=lista_09.index(20)\n",
        "lista_09[inserir_20]=200\n",
        "print(lista_09)\n"
      ],
      "execution_count": 56,
      "outputs": [
        {
          "output_type": "stream",
          "name": "stdout",
          "text": [
            "[5, 10, 15, 200, 25, 50, 20]\n"
          ]
        }
      ]
    },
    {
      "cell_type": "markdown",
      "metadata": {
        "id": "CuvJjnFIQ2gl"
      },
      "source": [
        "##### Resultado esperado:\n",
        "<pre>\n",
        "[5, 10, 15, 200, 25, 50, 20]\n",
        "</pre>"
      ]
    },
    {
      "cell_type": "markdown",
      "metadata": {
        "id": "oPQwr0i4Q3pl"
      },
      "source": [
        "# **Dicionários**"
      ]
    },
    {
      "cell_type": "markdown",
      "metadata": {
        "id": "QFJN02wkRCxi"
      },
      "source": [
        "## **Converta as seguintes listas para dicionários**"
      ]
    },
    {
      "cell_type": "code",
      "metadata": {
        "id": "49oumfKYQ5pl",
        "colab": {
          "base_uri": "https://localhost:8080/"
        },
        "outputId": "fd064eb5-2086-429d-c6d9-c1b63c2e0ed5"
      },
      "source": [
        "chaves  = ['Dez', 'Vinte', 'Trinta']\n",
        "valores = [10, 20, 30]\n",
        "\n",
        "#########################################\n",
        "#         Escreva o código aqui\n",
        "#########################################\n",
        "#Aluno:Marcio Henrique Matos de Freitas\n",
        "\n",
        "converter_dicio=dict(zip(chaves,valores))\n",
        "print(converter_dicio)\n",
        "\n"
      ],
      "execution_count": 57,
      "outputs": [
        {
          "output_type": "stream",
          "name": "stdout",
          "text": [
            "{'Dez': 10, 'Vinte': 20, 'Trinta': 30}\n"
          ]
        }
      ]
    },
    {
      "cell_type": "markdown",
      "metadata": {
        "id": "_C5OzD3ZRIbJ"
      },
      "source": [
        "##### Resultado esperado:\n",
        "<pre>\n",
        "{'Dez': 10, 'Vinte': 20, 'Trinta': 30}\n",
        "</pre>"
      ]
    },
    {
      "cell_type": "markdown",
      "metadata": {
        "id": "VYb7iKCSRKZK"
      },
      "source": [
        "## **Junte os seguintes dois dicionários Python em um só**"
      ]
    },
    {
      "cell_type": "code",
      "metadata": {
        "id": "ht2aP-D7RIpA",
        "colab": {
          "base_uri": "https://localhost:8080/"
        },
        "outputId": "0fffffdf-790c-4a13-beda-392e6372c0bd"
      },
      "source": [
        "dicionario_01 = {'Dez' : 10, 'Vinte' : 20, 'Trinta' : 30}\n",
        "dicionario_02 = {'Trinta' : 30 , 'Quarenta' : 40, 'Cinquenta' : 50}\n",
        "\n",
        "#########################################\n",
        "#         Escreva o código aqui\n",
        "#########################################\n",
        "\n",
        "#Aluno:Marcio Henrique Matos de Freitas\n",
        "\n",
        "#realizando update\n",
        "\n",
        "dicionario_01.update(dicionario_02)\n",
        "\n",
        "print(dicionario_01)\n"
      ],
      "execution_count": 58,
      "outputs": [
        {
          "output_type": "stream",
          "name": "stdout",
          "text": [
            "{'Dez': 10, 'Vinte': 20, 'Trinta': 30, 'Quarenta': 40, 'Cinquenta': 50}\n"
          ]
        }
      ]
    },
    {
      "cell_type": "markdown",
      "metadata": {
        "id": "Hsb51tHmRQIN"
      },
      "source": [
        "##### Resultado esperado:\n",
        "<pre>\n",
        "{'Dez': 10, 'Vinte': 20, 'Trinta': 30, 'Quarena': 40, 'Cinquenta': 50}\n",
        "</pre>"
      ]
    },
    {
      "cell_type": "markdown",
      "metadata": {
        "id": "76ERq8X6RSS9"
      },
      "source": [
        "## **Acesse o valor da chave \"história\" do dicionário abaixo**"
      ]
    },
    {
      "cell_type": "code",
      "metadata": {
        "id": "Qb3y0FWOROXw",
        "colab": {
          "base_uri": "https://localhost:8080/"
        },
        "outputId": "f7a34b42-be7d-4c24-977e-a38dd152e458"
      },
      "source": [
        "dicionario_03 = { \n",
        "   \"Turma\":{ \n",
        "      \"Aluno\":{ \n",
        "         \"Nome\": \"João\",\n",
        "         \"Notas\": { \n",
        "            \"Física\"  : 70,\n",
        "            \"História\" : 80\n",
        "         }\n",
        "      }\n",
        "   }\n",
        "}\n",
        "\n",
        "#########################################\n",
        "#         Escreva o código aqui\n",
        "#########################################\n",
        "\n",
        "#Aluno:Márcio Henrique Matos de Freitas\n",
        "\n",
        "historia=dicionario_03[\"Turma\"][\"Aluno\"][\"Notas\"][\"História\"]\n",
        "print(historia)\n"
      ],
      "execution_count": 62,
      "outputs": [
        {
          "output_type": "stream",
          "name": "stdout",
          "text": [
            "80\n"
          ]
        }
      ]
    },
    {
      "cell_type": "markdown",
      "metadata": {
        "id": "3KlHMIu6RXRk"
      },
      "source": [
        "##### Resultado esperado:\n",
        "<pre>\n",
        "80\n",
        "</pre>"
      ]
    },
    {
      "cell_type": "markdown",
      "metadata": {
        "id": "N__JqNZhRZXc"
      },
      "source": [
        "## **Inicializar dicionário com valores padrão**"
      ]
    },
    {
      "cell_type": "code",
      "metadata": {
        "id": "F2keIH99RXgF",
        "colab": {
          "base_uri": "https://localhost:8080/"
        },
        "outputId": "0bce7027-54f9-447a-ce5e-0a820de87ade"
      },
      "source": [
        "empregados     = ['Ana', 'Maria', 'João']\n",
        "valores_padrao = {'Cargo' : 'Desenvolvedor', 'Salário' : 8_000}\n",
        "\n",
        "#########################################\n",
        "#         Escreva o código aqui\n",
        "#########################################\n",
        "\n",
        "#Aluno:Márcio Henriue Matos de Freitas\n",
        "\n",
        "#criando dicionario para cada profissão\n",
        "\n",
        "profissao={}\n",
        "\n",
        "for empregado in empregados:\n",
        "  profissao=valores_padrao.copy()\n",
        "  profissao['Nome']=empregado\n",
        "  profissao[empregado]=profissao\n",
        "\n",
        "\n",
        "print(profissao)"
      ],
      "execution_count": 63,
      "outputs": [
        {
          "output_type": "stream",
          "name": "stdout",
          "text": [
            "{'Cargo': 'Desenvolvedor', 'Salário': 8000, 'Nome': 'João', 'João': {...}}\n"
          ]
        }
      ]
    },
    {
      "cell_type": "markdown",
      "metadata": {
        "id": "8Rjq_JLlRdDR"
      },
      "source": [
        "##### Resultado esperado:\n",
        "<pre>\n",
        "{ 'Ana': {'Cargo' : 'Desenvolvedor', 'Salário' : 8_000},\n",
        "  'Maria': {'Cargo' : 'Desenvolvedor', 'Salário' : 8_000},\n",
        "  'João': {'Cargo' : 'Desenvolvedor', 'Salário' : 8_000}\n",
        "}\n",
        "</pre>\n"
      ]
    },
    {
      "cell_type": "markdown",
      "metadata": {
        "id": "hEjjjpsgRfye"
      },
      "source": [
        "## **Crie um novo dicionário extraindo as seguintes chaves de um dicionário abaixo**"
      ]
    },
    {
      "cell_type": "code",
      "metadata": {
        "id": "vZ8lRo0fRdUx",
        "colab": {
          "base_uri": "https://localhost:8080/"
        },
        "outputId": "b957bc15-5260-4a11-8acf-9b038f8f4665"
      },
      "source": [
        "dicionario_04 = {\n",
        "  \"Nome\"   : \"Maria\",\n",
        "  \"Idade\"  : 25,\n",
        "  \"Salário\": 8_000,\n",
        "  \"Cidade\" : \"São Paulo\"\n",
        "  \n",
        "}\n",
        "\n",
        "chaves_para_extrair = ['Nome', 'Salário']\n",
        "\n",
        "#########################################\n",
        "#         Escreva o código aqui\n",
        "#########################################\n",
        "\n",
        "#Aluno:Márcio Henrique Matos de Freitas\n",
        "\n",
        "novo_dicio=dict.fromkeys(dicionario_04.keys())\n",
        "novo_dicio.update({'Nome':'Maria', 'Salário':8000})\n",
        "print(novo_dicio)\n"
      ],
      "execution_count": 70,
      "outputs": [
        {
          "output_type": "stream",
          "name": "stdout",
          "text": [
            "{'Nome': 'Maria', 'Idade': None, 'Salário': 8000, 'Cidade': None}\n"
          ]
        }
      ]
    },
    {
      "cell_type": "markdown",
      "metadata": {
        "id": "P0Sm1MKlRjwh"
      },
      "source": [
        "##### Resultado esperado:\n",
        "<pre>\n",
        "{'Nome': 'Maria', 'Salário': 8000}\n",
        "</pre>\n"
      ]
    },
    {
      "cell_type": "markdown",
      "metadata": {
        "id": "p1av1f_WRlco"
      },
      "source": [
        "## **Exclua um conjunto de chaves de um dicionário**"
      ]
    },
    {
      "cell_type": "code",
      "metadata": {
        "id": "t20AKOj6RkCj",
        "colab": {
          "base_uri": "https://localhost:8080/"
        },
        "outputId": "9c8b24d1-fc2f-48df-efb9-737a579d6c04"
      },
      "source": [
        "dicionario_05 = {\n",
        "  \"Nome\"   : \"Maria\",\n",
        "  \"Idade\"  : 25,\n",
        "  \"Salário\": 8_000,\n",
        "  \"Cidade\" : \"São Paulo\"\n",
        "  \n",
        "}\n",
        "\n",
        "chaves_para_excluir = ['Nome', 'Salário']\n",
        "\n",
        "#########################################\n",
        "#         Escreva o código aqui\n",
        "#########################################\n",
        "\n",
        "#ALuno:Márcio Henrique Matos de Freitas\n",
        "for chave in chaves_para_excluir:\n",
        "  dicionario_05.pop(chave,None)\n",
        "\n",
        "print(dicionario_05)\n"
      ],
      "execution_count": 71,
      "outputs": [
        {
          "output_type": "stream",
          "name": "stdout",
          "text": [
            "{'Idade': 25, 'Cidade': 'São Paulo'}\n"
          ]
        }
      ]
    },
    {
      "cell_type": "markdown",
      "metadata": {
        "id": "lViwgAoBRp9f"
      },
      "source": [
        "##### Resultado esperado:\n",
        "<pre>\n",
        "{'Cidade': 'São Paulo', 'Idade': 25}\n",
        "</pre>\n"
      ]
    },
    {
      "cell_type": "markdown",
      "metadata": {
        "id": "nuPNVkaERrub"
      },
      "source": [
        "## **Verifique se o valor 200 existe no dicionário**"
      ]
    },
    {
      "cell_type": "code",
      "metadata": {
        "id": "2Ax9g4UgRqQJ",
        "colab": {
          "base_uri": "https://localhost:8080/"
        },
        "outputId": "8d6c8fa4-5aa6-4cbf-bae0-6ea314093bed"
      },
      "source": [
        "dicionario_06 = {'a' : 100, 'b' : 200, 'c' : 300}\n",
        "\n",
        "#########################################\n",
        "#         Escreva o código aqui\n",
        "#########################################\n",
        "#Aluno:Márcio Henrique Matos de Freitas\n",
        "\n",
        "\n",
        "if 200 in dicionario_06.values():\n",
        "  print(\"True\")\n",
        "else:\n",
        "  print(\"False\")\n"
      ],
      "execution_count": 72,
      "outputs": [
        {
          "output_type": "stream",
          "name": "stdout",
          "text": [
            "True\n"
          ]
        }
      ]
    },
    {
      "cell_type": "markdown",
      "metadata": {
        "id": "E-rYiFIkRvzm"
      },
      "source": [
        "##### Resultado esperado:\n",
        "<pre>\n",
        "True\n",
        "</pre>\n"
      ]
    },
    {
      "cell_type": "markdown",
      "metadata": {
        "id": "Kkr5OnAkRxyY"
      },
      "source": [
        "## **Renomeie a chave Cidade para localização no seguinte dicionário**"
      ]
    },
    {
      "cell_type": "code",
      "metadata": {
        "id": "VLE-5xE2Rv-l",
        "colab": {
          "base_uri": "https://localhost:8080/"
        },
        "outputId": "01e0c105-b5ac-4e85-98e6-73510ad67f40"
      },
      "source": [
        "dicionario_07 = {\n",
        "  \"Nome\"   : \"Maria\",\n",
        "  \"Idade\"  : 25,\n",
        "  \"Salário\": 8_000,\n",
        "  \"Cidade\" : \"São Paulo\"\n",
        "  \n",
        "}\n",
        "\n",
        "#########################################\n",
        "#         Escreva o código aqui\n",
        "#########################################\n",
        "#Aluno:Márcio Henrique Matos de Freitas\n",
        "\n",
        "dicionario_07['Localizacao']=dicionario_07.pop(\"Cidade\")\n",
        "print(dicionario_07)"
      ],
      "execution_count": 74,
      "outputs": [
        {
          "output_type": "stream",
          "name": "stdout",
          "text": [
            "{'Nome': 'Maria', 'Idade': 25, 'Salário': 8000, 'Localizacao': 'São Paulo'}\n"
          ]
        }
      ]
    },
    {
      "cell_type": "markdown",
      "metadata": {
        "id": "fqwDlzq3R15R"
      },
      "source": [
        "##### Resultado esperado:\n",
        "<pre>\n",
        "{\n",
        "  \"Nome\": \"Maria\",\n",
        "  \"Idade\":25,\n",
        "  \"Salário\": 8000,\n",
        "  \"Localização\": \"São Paulo\"\n",
        "}\n",
        "</pre>"
      ]
    },
    {
      "cell_type": "markdown",
      "metadata": {
        "id": "Iy2wPk8LR4JS"
      },
      "source": [
        "## **Obtenha a chave de um valor mínimo do seguinte dicionário**"
      ]
    },
    {
      "cell_type": "code",
      "metadata": {
        "id": "10t3helER2GZ",
        "colab": {
          "base_uri": "https://localhost:8080/",
          "height": 236
        },
        "outputId": "35ebbf04-f117-4592-aeb3-bbbfd953445e"
      },
      "source": [
        "dicionario_08 = {\n",
        "  'Física'    : 82,\n",
        "  'Matemática': 65,\n",
        "  'História'  : 75\n",
        "}\n",
        "\n",
        "#########################################\n",
        "#         Escreva o código aqui\n",
        "#########################################\n",
        "#Aluno:Márcio Henrique Matos de Freitas\n",
        "\n",
        "menor_chave=min(dicionario_08,chave=lambda chave_minima: dicionario_08[chave_minima])\n",
        "print(menor_chave)"
      ],
      "execution_count": 77,
      "outputs": [
        {
          "output_type": "error",
          "ename": "TypeError",
          "evalue": "ignored",
          "traceback": [
            "\u001b[0;31m---------------------------------------------------------------------------\u001b[0m",
            "\u001b[0;31mTypeError\u001b[0m                                 Traceback (most recent call last)",
            "\u001b[0;32m<ipython-input-77-4b8cc47cfe46>\u001b[0m in \u001b[0;36m<cell line: 12>\u001b[0;34m()\u001b[0m\n\u001b[1;32m     10\u001b[0m \u001b[0;31m#Aluno:Márcio Henrique Matos de Freitas\u001b[0m\u001b[0;34m\u001b[0m\u001b[0;34m\u001b[0m\u001b[0m\n\u001b[1;32m     11\u001b[0m \u001b[0;34m\u001b[0m\u001b[0m\n\u001b[0;32m---> 12\u001b[0;31m \u001b[0mmenor_chave\u001b[0m\u001b[0;34m=\u001b[0m\u001b[0mmin\u001b[0m\u001b[0;34m(\u001b[0m\u001b[0mdicionario_08\u001b[0m\u001b[0;34m,\u001b[0m\u001b[0mchave\u001b[0m\u001b[0;34m=\u001b[0m\u001b[0;32mlambda\u001b[0m \u001b[0mchave_minima\u001b[0m\u001b[0;34m:\u001b[0m \u001b[0mdicionario_08\u001b[0m\u001b[0;34m[\u001b[0m\u001b[0mchave_minima\u001b[0m\u001b[0;34m]\u001b[0m\u001b[0;34m)\u001b[0m\u001b[0;34m\u001b[0m\u001b[0;34m\u001b[0m\u001b[0m\n\u001b[0m\u001b[1;32m     13\u001b[0m \u001b[0mprint\u001b[0m\u001b[0;34m(\u001b[0m\u001b[0mmenor_chave\u001b[0m\u001b[0;34m)\u001b[0m\u001b[0;34m\u001b[0m\u001b[0;34m\u001b[0m\u001b[0m\n",
            "\u001b[0;31mTypeError\u001b[0m: 'chave' is an invalid keyword argument for min()"
          ]
        }
      ]
    },
    {
      "cell_type": "markdown",
      "metadata": {
        "id": "nyHuXnpFR73y"
      },
      "source": [
        "##### Resultado esperado:\n",
        "<pre>\n",
        "Matemática\n",
        "</pre>"
      ]
    },
    {
      "cell_type": "markdown",
      "metadata": {
        "id": "es6AMeELR-Fx"
      },
      "source": [
        "## **Alterar o salário de João para 8500 em um determinado dicionário Python**"
      ]
    },
    {
      "cell_type": "code",
      "metadata": {
        "id": "PiVTp6DkR8EL",
        "colab": {
          "base_uri": "https://localhost:8080/"
        },
        "outputId": "6f4596e6-623a-4000-81a0-c5c5297bd109"
      },
      "source": [
        "dicionario_09 = {\n",
        "     'Empregado_1': {'Nome': 'Ana',   'Salário': 7500},\n",
        "     'Empregado_2': {'Nome': 'Maria', 'Salário': 8000},\n",
        "     'Empregado_3': {'Nome': 'João',  'Salário': 6500}\n",
        "}\n",
        "\n",
        "#########################################\n",
        "#         Escreva o código aqui\n",
        "#########################################\n",
        "\n",
        "#Aluno:Márcio Henrique Matos de Freitas\n",
        "dicionario_09['Salário']=1000\n",
        "print(dicionario_09)"
      ],
      "execution_count": 78,
      "outputs": [
        {
          "output_type": "stream",
          "name": "stdout",
          "text": [
            "{'Empregado_1': {'Nome': 'Ana', 'Salário': 7500}, 'Empregado_2': {'Nome': 'Maria', 'Salário': 8000}, 'Empregado_3': {'Nome': 'João', 'Salário': 6500}, 'Salário': 1000}\n"
          ]
        }
      ]
    },
    {
      "cell_type": "markdown",
      "metadata": {
        "id": "WZ-I-GFgSCI1"
      },
      "source": [
        "##### Resultado esperado:\n",
        "<pre>\n",
        "'Empregado_1': {'Nome': 'Ana',   'Salário': 7500},\n",
        "'Empregado_2': {'Nome': 'Maria', 'Salário': 8000},\n",
        "'Empregado_3': {'Nome': 'João',  'Salário': 8500}\n",
        "</pre>"
      ]
    },
    {
      "cell_type": "code",
      "metadata": {
        "id": "4e-BEas9SC9z"
      },
      "source": [],
      "execution_count": null,
      "outputs": []
    }
  ]
}